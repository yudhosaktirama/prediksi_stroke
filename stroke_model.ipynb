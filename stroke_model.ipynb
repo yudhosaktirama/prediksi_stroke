{
 "cells": [
  {
   "cell_type": "code",
   "execution_count": 73,
   "metadata": {},
   "outputs": [],
   "source": [
    "# Import Library\n",
    "import numpy as np\n",
    "import pandas as pd\n",
    "from sklearn.model_selection import train_test_split\n",
    "from sklearn.linear_model import LogisticRegression\n",
    "from sklearn.metrics import accuracy_score"
   ]
  },
  {
   "cell_type": "code",
   "execution_count": 74,
   "metadata": {},
   "outputs": [
    {
     "name": "stdout",
     "output_type": "stream",
     "text": [
      "    gender   age  hypertension  heart_disease ever_married work_type  \\\n",
      "0        0  67.0             0              1            1         0   \n",
      "1        0  80.0             0              1            1         0   \n",
      "2        1  49.0             0              0            1         0   \n",
      "3        1  79.0             1              0            1         1   \n",
      "4        0  81.0             0              0            1         0   \n",
      "..     ...   ...           ...            ...          ...       ...   \n",
      "449      1  55.0             0              0            1         0   \n",
      "450      1  71.0             0              0            1         0   \n",
      "451      0   5.0             0              0            0         3   \n",
      "452      1  14.0             0              0            0         3   \n",
      "453      1  15.0             0              0            0         3   \n",
      "\n",
      "    Residence_type  avg_glucose_level   bmi smoking_status  \n",
      "0                1             228.69  36.6              0  \n",
      "1                0             105.92  32.5              1  \n",
      "2                1             171.23  34.4              2  \n",
      "3                0             174.12  24.0              1  \n",
      "4                1             186.21  29.0              0  \n",
      "..             ...                ...   ...            ...  \n",
      "449              0             111.19  39.7              0  \n",
      "450              1              93.28  34.7              1  \n",
      "451              0             122.19  35.0              3  \n",
      "452              0             129.53  21.3              1  \n",
      "453              0             114.53  29.1              3  \n",
      "\n",
      "[454 rows x 10 columns]\n"
     ]
    },
    {
     "name": "stderr",
     "output_type": "stream",
     "text": [
      "C:\\Users\\User\\AppData\\Local\\Temp\\ipykernel_21460\\1706655435.py:9: SettingWithCopyWarning: \n",
      "A value is trying to be set on a copy of a slice from a DataFrame\n",
      "\n",
      "See the caveats in the documentation: https://pandas.pydata.org/pandas-docs/stable/user_guide/indexing.html#returning-a-view-versus-a-copy\n",
      "  data_parameter.gender[data_parameter.gender == 'Male'] =0\n",
      "C:\\Users\\User\\AppData\\Local\\Temp\\ipykernel_21460\\1706655435.py:10: SettingWithCopyWarning: \n",
      "A value is trying to be set on a copy of a slice from a DataFrame\n",
      "\n",
      "See the caveats in the documentation: https://pandas.pydata.org/pandas-docs/stable/user_guide/indexing.html#returning-a-view-versus-a-copy\n",
      "  data_parameter.gender[data_parameter.gender == 'Female']=1\n",
      "C:\\Users\\User\\AppData\\Local\\Temp\\ipykernel_21460\\1706655435.py:11: SettingWithCopyWarning: \n",
      "A value is trying to be set on a copy of a slice from a DataFrame\n",
      "\n",
      "See the caveats in the documentation: https://pandas.pydata.org/pandas-docs/stable/user_guide/indexing.html#returning-a-view-versus-a-copy\n",
      "  data_parameter.gender[data_parameter.gender == 'Other']=2\n",
      "C:\\Users\\User\\AppData\\Local\\Temp\\ipykernel_21460\\1706655435.py:12: SettingWithCopyWarning: \n",
      "A value is trying to be set on a copy of a slice from a DataFrame\n",
      "\n",
      "See the caveats in the documentation: https://pandas.pydata.org/pandas-docs/stable/user_guide/indexing.html#returning-a-view-versus-a-copy\n",
      "  data_parameter.ever_married[data_parameter.ever_married == 'Yes'] =1\n",
      "C:\\Users\\User\\AppData\\Local\\Temp\\ipykernel_21460\\1706655435.py:13: SettingWithCopyWarning: \n",
      "A value is trying to be set on a copy of a slice from a DataFrame\n",
      "\n",
      "See the caveats in the documentation: https://pandas.pydata.org/pandas-docs/stable/user_guide/indexing.html#returning-a-view-versus-a-copy\n",
      "  data_parameter.ever_married[data_parameter.ever_married == 'No'] =0\n",
      "C:\\Users\\User\\AppData\\Local\\Temp\\ipykernel_21460\\1706655435.py:14: SettingWithCopyWarning: \n",
      "A value is trying to be set on a copy of a slice from a DataFrame\n",
      "\n",
      "See the caveats in the documentation: https://pandas.pydata.org/pandas-docs/stable/user_guide/indexing.html#returning-a-view-versus-a-copy\n",
      "  data_parameter.work_type[data_parameter.work_type == 'children']= 3\n",
      "C:\\Users\\User\\AppData\\Local\\Temp\\ipykernel_21460\\1706655435.py:15: SettingWithCopyWarning: \n",
      "A value is trying to be set on a copy of a slice from a DataFrame\n",
      "\n",
      "See the caveats in the documentation: https://pandas.pydata.org/pandas-docs/stable/user_guide/indexing.html#returning-a-view-versus-a-copy\n",
      "  data_parameter.work_type[data_parameter.work_type == 'Govt_job']= 2\n",
      "C:\\Users\\User\\AppData\\Local\\Temp\\ipykernel_21460\\1706655435.py:16: SettingWithCopyWarning: \n",
      "A value is trying to be set on a copy of a slice from a DataFrame\n",
      "\n",
      "See the caveats in the documentation: https://pandas.pydata.org/pandas-docs/stable/user_guide/indexing.html#returning-a-view-versus-a-copy\n",
      "  data_parameter.work_type[data_parameter.work_type == 'Never_worked']= 4\n",
      "C:\\Users\\User\\AppData\\Local\\Temp\\ipykernel_21460\\1706655435.py:17: SettingWithCopyWarning: \n",
      "A value is trying to be set on a copy of a slice from a DataFrame\n",
      "\n",
      "See the caveats in the documentation: https://pandas.pydata.org/pandas-docs/stable/user_guide/indexing.html#returning-a-view-versus-a-copy\n",
      "  data_parameter.work_type[data_parameter.work_type == 'Private']= 0\n",
      "C:\\Users\\User\\AppData\\Local\\Temp\\ipykernel_21460\\1706655435.py:18: SettingWithCopyWarning: \n",
      "A value is trying to be set on a copy of a slice from a DataFrame\n",
      "\n",
      "See the caveats in the documentation: https://pandas.pydata.org/pandas-docs/stable/user_guide/indexing.html#returning-a-view-versus-a-copy\n",
      "  data_parameter.work_type[data_parameter.work_type == 'Self-employed']= 1\n",
      "C:\\Users\\User\\AppData\\Local\\Temp\\ipykernel_21460\\1706655435.py:19: SettingWithCopyWarning: \n",
      "A value is trying to be set on a copy of a slice from a DataFrame\n",
      "\n",
      "See the caveats in the documentation: https://pandas.pydata.org/pandas-docs/stable/user_guide/indexing.html#returning-a-view-versus-a-copy\n",
      "  data_parameter.Residence_type[data_parameter.Residence_type == 'Urban']= 1\n",
      "C:\\Users\\User\\AppData\\Local\\Temp\\ipykernel_21460\\1706655435.py:20: SettingWithCopyWarning: \n",
      "A value is trying to be set on a copy of a slice from a DataFrame\n",
      "\n",
      "See the caveats in the documentation: https://pandas.pydata.org/pandas-docs/stable/user_guide/indexing.html#returning-a-view-versus-a-copy\n",
      "  data_parameter.Residence_type[data_parameter.Residence_type == 'Rural']= 0\n",
      "C:\\Users\\User\\AppData\\Local\\Temp\\ipykernel_21460\\1706655435.py:21: SettingWithCopyWarning: \n",
      "A value is trying to be set on a copy of a slice from a DataFrame\n",
      "\n",
      "See the caveats in the documentation: https://pandas.pydata.org/pandas-docs/stable/user_guide/indexing.html#returning-a-view-versus-a-copy\n",
      "  data_parameter.smoking_status[data_parameter.smoking_status == 'never smoked']= 1\n",
      "C:\\Users\\User\\AppData\\Local\\Temp\\ipykernel_21460\\1706655435.py:22: SettingWithCopyWarning: \n",
      "A value is trying to be set on a copy of a slice from a DataFrame\n",
      "\n",
      "See the caveats in the documentation: https://pandas.pydata.org/pandas-docs/stable/user_guide/indexing.html#returning-a-view-versus-a-copy\n",
      "  data_parameter.smoking_status[data_parameter.smoking_status == 'Unknown']= 3\n",
      "C:\\Users\\User\\AppData\\Local\\Temp\\ipykernel_21460\\1706655435.py:23: SettingWithCopyWarning: \n",
      "A value is trying to be set on a copy of a slice from a DataFrame\n",
      "\n",
      "See the caveats in the documentation: https://pandas.pydata.org/pandas-docs/stable/user_guide/indexing.html#returning-a-view-versus-a-copy\n",
      "  data_parameter.smoking_status[data_parameter.smoking_status == 'formerly smoked']= 0\n",
      "C:\\Users\\User\\AppData\\Local\\Temp\\ipykernel_21460\\1706655435.py:24: SettingWithCopyWarning: \n",
      "A value is trying to be set on a copy of a slice from a DataFrame\n",
      "\n",
      "See the caveats in the documentation: https://pandas.pydata.org/pandas-docs/stable/user_guide/indexing.html#returning-a-view-versus-a-copy\n",
      "  data_parameter.smoking_status[data_parameter.smoking_status == 'smokes']= 2\n"
     ]
    }
   ],
   "source": [
    "# Baca File CSV / Data set\n",
    "\n",
    "data = pd.read_csv('data_baru.csv')\n",
    "\n",
    "# Pisahkan dari tabel ID dan Stroke (Untuk data yang menjadi parameter)\n",
    "\n",
    "data_NA = data.drop(columns=['id','stroke'])\n",
    "data_parameter = data_NA.dropna(ignore_index=True)\n",
    "data_parameter.gender[data_parameter.gender == 'Male'] =0\n",
    "data_parameter.gender[data_parameter.gender == 'Female']=1\n",
    "data_parameter.gender[data_parameter.gender == 'Other']=2\n",
    "data_parameter.ever_married[data_parameter.ever_married == 'Yes'] =1\n",
    "data_parameter.ever_married[data_parameter.ever_married == 'No'] =0\n",
    "data_parameter.work_type[data_parameter.work_type == 'children']= 3\n",
    "data_parameter.work_type[data_parameter.work_type == 'Govt_job']= 2\n",
    "data_parameter.work_type[data_parameter.work_type == 'Never_worked']= 4\n",
    "data_parameter.work_type[data_parameter.work_type == 'Private']= 0\n",
    "data_parameter.work_type[data_parameter.work_type == 'Self-employed']= 1\n",
    "data_parameter.Residence_type[data_parameter.Residence_type == 'Urban']= 1\n",
    "data_parameter.Residence_type[data_parameter.Residence_type == 'Rural']= 0\n",
    "data_parameter.smoking_status[data_parameter.smoking_status == 'never smoked']= 1\n",
    "data_parameter.smoking_status[data_parameter.smoking_status == 'Unknown']= 3\n",
    "data_parameter.smoking_status[data_parameter.smoking_status == 'formerly smoked']= 0\n",
    "data_parameter.smoking_status[data_parameter.smoking_status == 'smokes']= 2\n",
    "\n",
    "hasil = data.drop(columns=['id'])\n",
    "\n",
    "# Ambil Tabel Stroke\n",
    "\n",
    "data_hasil_NA = data.dropna(ignore_index=True)\n",
    "print(data_parameter)\n",
    "data_hasil = data_hasil_NA['stroke']\n",
    "\n"
   ]
  },
  {
   "cell_type": "code",
   "execution_count": 75,
   "metadata": {},
   "outputs": [],
   "source": [
    "# Lakukan Training dengan train_test_split\n",
    "\n",
    "X_train,X_test,Y_train,Y_test = train_test_split(data_parameter,data_hasil,test_size=0.2,random_state=10)"
   ]
  },
  {
   "cell_type": "code",
   "execution_count": 76,
   "metadata": {},
   "outputs": [
    {
     "name": "stderr",
     "output_type": "stream",
     "text": [
      "g:\\ANACONDA\\envs\\PraktikumFuzzy\\Lib\\site-packages\\sklearn\\utils\\validation.py:767: FutureWarning: is_sparse is deprecated and will be removed in a future version. Check `isinstance(dtype, pd.SparseDtype)` instead.\n",
      "  if not hasattr(array, \"sparse\") and array.dtypes.apply(is_sparse).any():\n",
      "g:\\ANACONDA\\envs\\PraktikumFuzzy\\Lib\\site-packages\\sklearn\\utils\\validation.py:605: FutureWarning: is_sparse is deprecated and will be removed in a future version. Check `isinstance(dtype, pd.SparseDtype)` instead.\n",
      "  if is_sparse(pd_dtype):\n",
      "g:\\ANACONDA\\envs\\PraktikumFuzzy\\Lib\\site-packages\\sklearn\\utils\\validation.py:614: FutureWarning: is_sparse is deprecated and will be removed in a future version. Check `isinstance(dtype, pd.SparseDtype)` instead.\n",
      "  if is_sparse(pd_dtype) or not is_extension_array_dtype(pd_dtype):\n",
      "g:\\ANACONDA\\envs\\PraktikumFuzzy\\Lib\\site-packages\\sklearn\\utils\\validation.py:605: FutureWarning: is_sparse is deprecated and will be removed in a future version. Check `isinstance(dtype, pd.SparseDtype)` instead.\n",
      "  if is_sparse(pd_dtype):\n",
      "g:\\ANACONDA\\envs\\PraktikumFuzzy\\Lib\\site-packages\\sklearn\\utils\\validation.py:614: FutureWarning: is_sparse is deprecated and will be removed in a future version. Check `isinstance(dtype, pd.SparseDtype)` instead.\n",
      "  if is_sparse(pd_dtype) or not is_extension_array_dtype(pd_dtype):\n",
      "g:\\ANACONDA\\envs\\PraktikumFuzzy\\Lib\\site-packages\\sklearn\\linear_model\\_logistic.py:458: ConvergenceWarning: lbfgs failed to converge (status=1):\n",
      "STOP: TOTAL NO. of ITERATIONS REACHED LIMIT.\n",
      "\n",
      "Increase the number of iterations (max_iter) or scale the data as shown in:\n",
      "    https://scikit-learn.org/stable/modules/preprocessing.html\n",
      "Please also refer to the documentation for alternative solver options:\n",
      "    https://scikit-learn.org/stable/modules/linear_model.html#logistic-regression\n",
      "  n_iter_i = _check_optimize_result(\n"
     ]
    },
    {
     "data": {
      "text/html": [
       "<style>#sk-container-id-9 {color: black;background-color: white;}#sk-container-id-9 pre{padding: 0;}#sk-container-id-9 div.sk-toggleable {background-color: white;}#sk-container-id-9 label.sk-toggleable__label {cursor: pointer;display: block;width: 100%;margin-bottom: 0;padding: 0.3em;box-sizing: border-box;text-align: center;}#sk-container-id-9 label.sk-toggleable__label-arrow:before {content: \"▸\";float: left;margin-right: 0.25em;color: #696969;}#sk-container-id-9 label.sk-toggleable__label-arrow:hover:before {color: black;}#sk-container-id-9 div.sk-estimator:hover label.sk-toggleable__label-arrow:before {color: black;}#sk-container-id-9 div.sk-toggleable__content {max-height: 0;max-width: 0;overflow: hidden;text-align: left;background-color: #f0f8ff;}#sk-container-id-9 div.sk-toggleable__content pre {margin: 0.2em;color: black;border-radius: 0.25em;background-color: #f0f8ff;}#sk-container-id-9 input.sk-toggleable__control:checked~div.sk-toggleable__content {max-height: 200px;max-width: 100%;overflow: auto;}#sk-container-id-9 input.sk-toggleable__control:checked~label.sk-toggleable__label-arrow:before {content: \"▾\";}#sk-container-id-9 div.sk-estimator input.sk-toggleable__control:checked~label.sk-toggleable__label {background-color: #d4ebff;}#sk-container-id-9 div.sk-label input.sk-toggleable__control:checked~label.sk-toggleable__label {background-color: #d4ebff;}#sk-container-id-9 input.sk-hidden--visually {border: 0;clip: rect(1px 1px 1px 1px);clip: rect(1px, 1px, 1px, 1px);height: 1px;margin: -1px;overflow: hidden;padding: 0;position: absolute;width: 1px;}#sk-container-id-9 div.sk-estimator {font-family: monospace;background-color: #f0f8ff;border: 1px dotted black;border-radius: 0.25em;box-sizing: border-box;margin-bottom: 0.5em;}#sk-container-id-9 div.sk-estimator:hover {background-color: #d4ebff;}#sk-container-id-9 div.sk-parallel-item::after {content: \"\";width: 100%;border-bottom: 1px solid gray;flex-grow: 1;}#sk-container-id-9 div.sk-label:hover label.sk-toggleable__label {background-color: #d4ebff;}#sk-container-id-9 div.sk-serial::before {content: \"\";position: absolute;border-left: 1px solid gray;box-sizing: border-box;top: 0;bottom: 0;left: 50%;z-index: 0;}#sk-container-id-9 div.sk-serial {display: flex;flex-direction: column;align-items: center;background-color: white;padding-right: 0.2em;padding-left: 0.2em;position: relative;}#sk-container-id-9 div.sk-item {position: relative;z-index: 1;}#sk-container-id-9 div.sk-parallel {display: flex;align-items: stretch;justify-content: center;background-color: white;position: relative;}#sk-container-id-9 div.sk-item::before, #sk-container-id-9 div.sk-parallel-item::before {content: \"\";position: absolute;border-left: 1px solid gray;box-sizing: border-box;top: 0;bottom: 0;left: 50%;z-index: -1;}#sk-container-id-9 div.sk-parallel-item {display: flex;flex-direction: column;z-index: 1;position: relative;background-color: white;}#sk-container-id-9 div.sk-parallel-item:first-child::after {align-self: flex-end;width: 50%;}#sk-container-id-9 div.sk-parallel-item:last-child::after {align-self: flex-start;width: 50%;}#sk-container-id-9 div.sk-parallel-item:only-child::after {width: 0;}#sk-container-id-9 div.sk-dashed-wrapped {border: 1px dashed gray;margin: 0 0.4em 0.5em 0.4em;box-sizing: border-box;padding-bottom: 0.4em;background-color: white;}#sk-container-id-9 div.sk-label label {font-family: monospace;font-weight: bold;display: inline-block;line-height: 1.2em;}#sk-container-id-9 div.sk-label-container {text-align: center;}#sk-container-id-9 div.sk-container {/* jupyter's `normalize.less` sets `[hidden] { display: none; }` but bootstrap.min.css set `[hidden] { display: none !important; }` so we also need the `!important` here to be able to override the default hidden behavior on the sphinx rendered scikit-learn.org. See: https://github.com/scikit-learn/scikit-learn/issues/21755 */display: inline-block !important;position: relative;}#sk-container-id-9 div.sk-text-repr-fallback {display: none;}</style><div id=\"sk-container-id-9\" class=\"sk-top-container\"><div class=\"sk-text-repr-fallback\"><pre>LogisticRegression()</pre><b>In a Jupyter environment, please rerun this cell to show the HTML representation or trust the notebook. <br />On GitHub, the HTML representation is unable to render, please try loading this page with nbviewer.org.</b></div><div class=\"sk-container\" hidden><div class=\"sk-item\"><div class=\"sk-estimator sk-toggleable\"><input class=\"sk-toggleable__control sk-hidden--visually\" id=\"sk-estimator-id-9\" type=\"checkbox\" checked><label for=\"sk-estimator-id-9\" class=\"sk-toggleable__label sk-toggleable__label-arrow\">LogisticRegression</label><div class=\"sk-toggleable__content\"><pre>LogisticRegression()</pre></div></div></div></div></div>"
      ],
      "text/plain": [
       "LogisticRegression()"
      ]
     },
     "execution_count": 76,
     "metadata": {},
     "output_type": "execute_result"
    }
   ],
   "source": [
    "# Gunakan Metode LogisticRegression untuk membuat model\n",
    "model = LogisticRegression()\n",
    "\n",
    "model.fit(X_train,Y_train)"
   ]
  },
  {
   "cell_type": "code",
   "execution_count": 77,
   "metadata": {},
   "outputs": [
    {
     "name": "stdout",
     "output_type": "stream",
     "text": [
      "0.7410468319559229\n",
      "0.7362637362637363\n"
     ]
    },
    {
     "name": "stderr",
     "output_type": "stream",
     "text": [
      "g:\\ANACONDA\\envs\\PraktikumFuzzy\\Lib\\site-packages\\sklearn\\utils\\validation.py:767: FutureWarning: is_sparse is deprecated and will be removed in a future version. Check `isinstance(dtype, pd.SparseDtype)` instead.\n",
      "  if not hasattr(array, \"sparse\") and array.dtypes.apply(is_sparse).any():\n",
      "g:\\ANACONDA\\envs\\PraktikumFuzzy\\Lib\\site-packages\\sklearn\\utils\\validation.py:605: FutureWarning: is_sparse is deprecated and will be removed in a future version. Check `isinstance(dtype, pd.SparseDtype)` instead.\n",
      "  if is_sparse(pd_dtype):\n",
      "g:\\ANACONDA\\envs\\PraktikumFuzzy\\Lib\\site-packages\\sklearn\\utils\\validation.py:614: FutureWarning: is_sparse is deprecated and will be removed in a future version. Check `isinstance(dtype, pd.SparseDtype)` instead.\n",
      "  if is_sparse(pd_dtype) or not is_extension_array_dtype(pd_dtype):\n",
      "g:\\ANACONDA\\envs\\PraktikumFuzzy\\Lib\\site-packages\\sklearn\\utils\\validation.py:605: FutureWarning: is_sparse is deprecated and will be removed in a future version. Check `isinstance(dtype, pd.SparseDtype)` instead.\n",
      "  if is_sparse(pd_dtype):\n",
      "g:\\ANACONDA\\envs\\PraktikumFuzzy\\Lib\\site-packages\\sklearn\\utils\\validation.py:614: FutureWarning: is_sparse is deprecated and will be removed in a future version. Check `isinstance(dtype, pd.SparseDtype)` instead.\n",
      "  if is_sparse(pd_dtype) or not is_extension_array_dtype(pd_dtype):\n",
      "g:\\ANACONDA\\envs\\PraktikumFuzzy\\Lib\\site-packages\\sklearn\\utils\\validation.py:605: FutureWarning: is_sparse is deprecated and will be removed in a future version. Check `isinstance(dtype, pd.SparseDtype)` instead.\n",
      "  if is_sparse(pd_dtype):\n",
      "g:\\ANACONDA\\envs\\PraktikumFuzzy\\Lib\\site-packages\\sklearn\\utils\\validation.py:614: FutureWarning: is_sparse is deprecated and will be removed in a future version. Check `isinstance(dtype, pd.SparseDtype)` instead.\n",
      "  if is_sparse(pd_dtype) or not is_extension_array_dtype(pd_dtype):\n",
      "g:\\ANACONDA\\envs\\PraktikumFuzzy\\Lib\\site-packages\\sklearn\\utils\\validation.py:605: FutureWarning: is_sparse is deprecated and will be removed in a future version. Check `isinstance(dtype, pd.SparseDtype)` instead.\n",
      "  if is_sparse(pd_dtype):\n",
      "g:\\ANACONDA\\envs\\PraktikumFuzzy\\Lib\\site-packages\\sklearn\\utils\\validation.py:614: FutureWarning: is_sparse is deprecated and will be removed in a future version. Check `isinstance(dtype, pd.SparseDtype)` instead.\n",
      "  if is_sparse(pd_dtype) or not is_extension_array_dtype(pd_dtype):\n",
      "g:\\ANACONDA\\envs\\PraktikumFuzzy\\Lib\\site-packages\\sklearn\\utils\\validation.py:767: FutureWarning: is_sparse is deprecated and will be removed in a future version. Check `isinstance(dtype, pd.SparseDtype)` instead.\n",
      "  if not hasattr(array, \"sparse\") and array.dtypes.apply(is_sparse).any():\n",
      "g:\\ANACONDA\\envs\\PraktikumFuzzy\\Lib\\site-packages\\sklearn\\utils\\validation.py:605: FutureWarning: is_sparse is deprecated and will be removed in a future version. Check `isinstance(dtype, pd.SparseDtype)` instead.\n",
      "  if is_sparse(pd_dtype):\n",
      "g:\\ANACONDA\\envs\\PraktikumFuzzy\\Lib\\site-packages\\sklearn\\utils\\validation.py:614: FutureWarning: is_sparse is deprecated and will be removed in a future version. Check `isinstance(dtype, pd.SparseDtype)` instead.\n",
      "  if is_sparse(pd_dtype) or not is_extension_array_dtype(pd_dtype):\n",
      "g:\\ANACONDA\\envs\\PraktikumFuzzy\\Lib\\site-packages\\sklearn\\utils\\validation.py:605: FutureWarning: is_sparse is deprecated and will be removed in a future version. Check `isinstance(dtype, pd.SparseDtype)` instead.\n",
      "  if is_sparse(pd_dtype):\n",
      "g:\\ANACONDA\\envs\\PraktikumFuzzy\\Lib\\site-packages\\sklearn\\utils\\validation.py:614: FutureWarning: is_sparse is deprecated and will be removed in a future version. Check `isinstance(dtype, pd.SparseDtype)` instead.\n",
      "  if is_sparse(pd_dtype) or not is_extension_array_dtype(pd_dtype):\n",
      "g:\\ANACONDA\\envs\\PraktikumFuzzy\\Lib\\site-packages\\sklearn\\utils\\validation.py:605: FutureWarning: is_sparse is deprecated and will be removed in a future version. Check `isinstance(dtype, pd.SparseDtype)` instead.\n",
      "  if is_sparse(pd_dtype):\n",
      "g:\\ANACONDA\\envs\\PraktikumFuzzy\\Lib\\site-packages\\sklearn\\utils\\validation.py:614: FutureWarning: is_sparse is deprecated and will be removed in a future version. Check `isinstance(dtype, pd.SparseDtype)` instead.\n",
      "  if is_sparse(pd_dtype) or not is_extension_array_dtype(pd_dtype):\n",
      "g:\\ANACONDA\\envs\\PraktikumFuzzy\\Lib\\site-packages\\sklearn\\utils\\validation.py:605: FutureWarning: is_sparse is deprecated and will be removed in a future version. Check `isinstance(dtype, pd.SparseDtype)` instead.\n",
      "  if is_sparse(pd_dtype):\n",
      "g:\\ANACONDA\\envs\\PraktikumFuzzy\\Lib\\site-packages\\sklearn\\utils\\validation.py:614: FutureWarning: is_sparse is deprecated and will be removed in a future version. Check `isinstance(dtype, pd.SparseDtype)` instead.\n",
      "  if is_sparse(pd_dtype) or not is_extension_array_dtype(pd_dtype):\n"
     ]
    }
   ],
   "source": [
    "# Test Score Akurasi\n",
    "X_train_prediction = model.predict(X_train)\n",
    "score = accuracy_score(X_train_prediction,Y_train)\n",
    "\n",
    "X_test_prediction = model.predict(X_test)\n",
    "score_test = accuracy_score(X_test_prediction,Y_test)\n",
    "\n",
    "\n",
    "print(score)\n",
    "print(score_test)\n"
   ]
  },
  {
   "cell_type": "code",
   "execution_count": 78,
   "metadata": {},
   "outputs": [
    {
     "name": "stdout",
     "output_type": "stream",
     "text": [
      "Mean Absolute Error (MAE): 0.26\n",
      "Mean Absolute Error (MSE): 0.26\n",
      "Root Mean Squared Error (RMSE): 0.51\n"
     ]
    },
    {
     "name": "stderr",
     "output_type": "stream",
     "text": [
      "g:\\ANACONDA\\envs\\PraktikumFuzzy\\Lib\\site-packages\\sklearn\\utils\\validation.py:605: FutureWarning: is_sparse is deprecated and will be removed in a future version. Check `isinstance(dtype, pd.SparseDtype)` instead.\n",
      "  if is_sparse(pd_dtype):\n",
      "g:\\ANACONDA\\envs\\PraktikumFuzzy\\Lib\\site-packages\\sklearn\\utils\\validation.py:614: FutureWarning: is_sparse is deprecated and will be removed in a future version. Check `isinstance(dtype, pd.SparseDtype)` instead.\n",
      "  if is_sparse(pd_dtype) or not is_extension_array_dtype(pd_dtype):\n",
      "g:\\ANACONDA\\envs\\PraktikumFuzzy\\Lib\\site-packages\\sklearn\\utils\\validation.py:605: FutureWarning: is_sparse is deprecated and will be removed in a future version. Check `isinstance(dtype, pd.SparseDtype)` instead.\n",
      "  if is_sparse(pd_dtype):\n",
      "g:\\ANACONDA\\envs\\PraktikumFuzzy\\Lib\\site-packages\\sklearn\\utils\\validation.py:614: FutureWarning: is_sparse is deprecated and will be removed in a future version. Check `isinstance(dtype, pd.SparseDtype)` instead.\n",
      "  if is_sparse(pd_dtype) or not is_extension_array_dtype(pd_dtype):\n"
     ]
    }
   ],
   "source": [
    "from sklearn.metrics import mean_absolute_error,mean_squared_error\n",
    "\n",
    "mae = mean_absolute_error(Y_test,X_test_prediction)\n",
    "print(f'Mean Absolute Error (MAE): {mae:.2f}')\n",
    "\n",
    "mse = mean_squared_error(Y_test,X_test_prediction)\n",
    "print(f'Mean Absolute Error (MSE): {mse:.2f}')\n",
    "\n",
    "rmse = np.sqrt(mse)\n",
    "print(f'Root Mean Squared Error (RMSE): {rmse:.2f}')"
   ]
  },
  {
   "cell_type": "code",
   "execution_count": 79,
   "metadata": {},
   "outputs": [
    {
     "name": "stdout",
     "output_type": "stream",
     "text": [
      "Anda Diduga Tidak Terkena Stroke\n"
     ]
    },
    {
     "name": "stderr",
     "output_type": "stream",
     "text": [
      "g:\\ANACONDA\\envs\\PraktikumFuzzy\\Lib\\site-packages\\sklearn\\base.py:439: UserWarning: X does not have valid feature names, but LogisticRegression was fitted with feature names\n",
      "  warnings.warn(\n"
     ]
    }
   ],
   "source": [
    "test_input = (1,59,0,0,1,0,0,117.92,29.4,2)\n",
    "\n",
    "ubah_array = np.asarray(test_input)\n",
    "\n",
    "\n",
    "reshape = ubah_array.reshape(1,-1)\n",
    "\n",
    "\n",
    "prediksi = model.predict(reshape)\n",
    "\n",
    "if prediksi[0] == 1:\n",
    "    print(\"Anda Diduga Terkena Stroke\")\n",
    "else:\n",
    "    print(\"Anda Diduga Tidak Terkena Stroke\")"
   ]
  },
  {
   "cell_type": "code",
   "execution_count": 80,
   "metadata": {},
   "outputs": [],
   "source": [
    "# Export Model ke File SAV\n",
    "\n",
    "import pickle\n",
    "\n",
    "namaFile = 'stroke_model.sav'\n",
    "pickle.dump(model,open(namaFile,'wb'))"
   ]
  }
 ],
 "metadata": {
  "kernelspec": {
   "display_name": "PraktikumFuzzy",
   "language": "python",
   "name": "python3"
  },
  "language_info": {
   "codemirror_mode": {
    "name": "ipython",
    "version": 3
   },
   "file_extension": ".py",
   "mimetype": "text/x-python",
   "name": "python",
   "nbconvert_exporter": "python",
   "pygments_lexer": "ipython3",
   "version": "3.11.5"
  }
 },
 "nbformat": 4,
 "nbformat_minor": 2
}
